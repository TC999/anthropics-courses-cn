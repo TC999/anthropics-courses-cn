{
 "cells": [
  {
   "cell_type": "markdown",
   "metadata": {},
   "source": [
    "# 工具使用基础\n",
    "\n",
    "## 学习目标\n",
    "* 理解什么是工具使用\n",
    "* 阐述工具使用的应用场景\n",
    "* 理解与 Claude 进行工具使用的高级过程"
   ]
  }
 ],
 "metadata": {
  "language_info": {
   "name": "python"
  }
 },
 "nbformat": 4,
 "nbformat_minor": 2
}
