{
 "cells": [
  {
   "cell_type": "markdown",
   "metadata": {},
   "source": [
    "# 开始使用 Claude SDK"
   ]
  },
  {
   "cell_type": "markdown",
   "metadata": {},
   "source": [
    "## 课程目标\n",
    "在本节课程中，您将学习：\n",
    "* 安装必要的软件包并使用API进行身份验证\n",
    "* 向Claude AI助手发出您的第一个请求"
   ]
  },
  {
   "cell_type": "markdown",
   "metadata": {},
   "source": [
    "## 安装SDK\n",
    "\n",
    "在深入了解SDK之前，请确保您的系统已安装Python。\n",
    "\n",
    "Claude Python SDK需要Python 3.7.1或更高版本。\n",
    "\n",
    "您可以通过在终端中运行以下命令来检查当前的Python版本：\n",
    "\n",
    "```\n",
    "python --version\n",
    "```"
   ]
  },
  {
   "cell_type": "markdown",
   "metadata": {},
   "source": [
    "如果您尚未安装Python或您的版本低于3.7.1，请访问[官方Python网站](https://www.python.org)，并按照适用于您操作系统的安装说明进行操作。"
   ]
  },
  {
   "cell_type": "markdown",
   "metadata": {},
   "source": [
    "安装好Python后，现在您可以使用pip来安装Anthropic包了。"
   ]
  },
  {
   "cell_type": "code",
   "execution_count": null,
   "metadata": {},
   "outputs": [],
   "source": [
    "# 如果是在笔记本内安装包，请使用以下命令\n",
    "%pip install anthropic \n",
    "# 在命令行中安装包，请使用以下命令\n",
    "# pip install anthropic"
   ]
  },
  {
   "cell_type": "markdown",
   "metadata": {},
   "source": [
    "## 获取 API 密钥\n",
    "\n",
    "为了验证您对 Claude API 的请求，您需要一个 API 密钥。\n",
    "\n",
    "请按照以下步骤获取您的 API 密钥：\n",
    "\n",
    "1. 如果您尚未注册，请访问 https://www.console.anthropic.com 注册一个 Anthropic 账户。\n",
    "2. 创建账户并登录后，前往 API 设置页面。您可以点击右上角的个人头像，并从下拉菜单中选择“API 密钥”，或者在设置标签页中找到“API 密钥”菜单。\n",
    "3. 在 API 设置页面上，点击“创建密钥”按钮。会弹出一个窗口要求您给密钥命名。请选择一个能够反映该密钥用途或项目的名称。您可以在账户内创建多个密钥（请注意，账户级别的速率限制和消息数量限制适用于整个账户，而非单个 API 密钥）。\n",
    "4. 输入名称后，点击“创建”按钮。您的新 API 密钥将被生成并在屏幕上显示。\n",
    "   > 请务必复制这个密钥，因为一旦离开此页面，您将无法再次查看它。\n",
    "\n",
    "![signup.png](images/signup.png)\n",
    "\n",
    "请注意，您的 API 密钥是一个敏感的信息，它能够授权访问您的 Anthropic 账户。请像对待密码一样保护好它，切勿公开分享或将其提交至版本控制系统（例如 Git）中。"
   ]
  },
  {
   "cell_type": "markdown",
   "metadata": {},
   "source": [
    "## 安全保存您的 API 密钥\n",
    "\n",
    "虽然您可以直接在 Python 脚本中硬编码您的 API 密钥，但通常最佳的做法是将敏感信息（如 API 密钥）与代码库分开存放。一种常见的做法是将 API 密钥存储在一个 `.env` 文件中，并使用 `python-dotenv` 库来加载它。以下是设置方法：\n",
    "\n",
    "在与您的笔记本文件相同的目录下创建一个名为 `.env` 的新文件。"
   ]
  },
  {
   "cell_type": "markdown",
   "metadata": {},
   "source": [
    "将您的 API 密钥以以下格式添加到新建的 `.env` 文件中：\n",
    "\n",
    "```\n",
    "ANTHROPIC_API_KEY=在这里输入您的api密钥\n",
    "```\n",
    "\n",
    "确保保存 `.env` 文件。"
   ]
  },
  {
   "cell_type": "markdown",
   "metadata": {},
   "source": [
    "通过在终端或笔记本中运行以下命令来安装 `python-dotenv` 包："
   ]
  },
  {
   "cell_type": "code",
   "execution_count": null,
   "metadata": {},
   "outputs": [],
   "source": [
    "### 从笔记本安装包：\n",
    "%pip install python-dotenv\n",
    "### 从终端安装包：\n",
    "#pip install python-dotenv"
   ]
  },
  {
   "cell_type": "markdown",
   "metadata": {},
   "source": [
    "我们现在可以使用来自 `dotenv` 模块的 `load_dotenv()` 函数从 `.env` 文件加载 API 密钥，相关代码如下："
   ]
  },
  {
   "cell_type": "code",
   "execution_count": null,
   "metadata": {},
   "outputs": [],
   "source": [
    "from dotenv import load_dotenv\n",
    "import os\n",
    "\n",
    "load_dotenv()\n",
    "my_api_key = os.getenv(\"ANTHROPIC_API_KEY\")"
   ]
  },
  {
   "cell_type": "markdown",
   "metadata": {},
   "source": [
    "## 使用客户端进行基本请求\n",
    "\n",
    "安装了 `anthropic` 包并加载了你的 API 密钥后，您就可以开始向 Claude API 发送请求了。\n",
    "\n",
    "首先，你需要创建一个客户端对象，它作为与 API 进行交互的主要入口点。"
   ]
  },
  {
   "cell_type": "code",
   "execution_count": null,
   "metadata": {},
   "outputs": [],
   "source": [
    "from anthropic import Anthropic\n",
    "\n",
    "client = Anthropic(\n",
    "    api_key=my_api_key\n",
    ")"
   ]
  },
  {
   "cell_type": "markdown",
   "metadata": {},
   "source": [
    "请注意，`anthropic` SDK 会自动查找名为 \"ANTHROPIC_API_KEY\" 的环境变量，因此实际上你不必手动传递 API 密钥，而是可以直接这样做："
   ]
  },
  {
   "cell_type": "code",
   "execution_count": null,
   "metadata": {},
   "outputs": [],
   "source": [
    "from anthropic import Anthropic\n",
    "\n",
    "client = Anthropic()"
   ]
  },
  {
   "cell_type": "markdown",
   "metadata": {},
   "source": [
    "既然我们已经创建了客户端实例，现在该发出我们的第一个请求了。\n",
    "\n",
    "为了给 Claude 发送消息并接收回复，我们将使用 `client` 对象的 `messages.create()` 方法。\n",
    "具体的参数和响应格式我们将在下一课中讨论。现在，请尝试运行下面的代码，您应该可以收到 Claude 的第一条回复！"
   ]
  },
  {
   "cell_type": "code",
   "execution_count": null,
   "metadata": {},
   "outputs": [],
   "source": [
    "our_first_message = client.messages.create(\n",
    "    model=\"claude-3-haiku-20240307\",\n",
    "    max_tokens=1000,\n",
    "    messages=[\n",
    "        {\"role\": \"user\", \"content\": \"你好！请帮我写一首关于宠物鸡的俳句。\"}\n",
    "    ]\n",
    ")\n",
    "\n",
    "print(our_first_message.content[0].text)"
   ]
  },
  {
   "cell_type": "markdown",
   "metadata": {},
   "source": [
    "我们才刚刚开始，所以这个练习可能会让您感觉有点平淡无奇。从基础开始练习总是好的。\n",
    "\n",
    "请按照以下步骤操作：\n",
    "1. 创建一个新的 Notebook 或 Python 脚本。\n",
    "2. 导入必要的包。\n",
    "3. 加载您的 Anthropic API 密钥。\n",
    "4. 让克劳德（Claude）给您讲个笑话，然后打印出结果（您可以复制/粘贴上面的代码并稍作修改）。\n",
    "***"
   ]
  }
 ],
 "metadata": {
  "language_info": {
   "name": "python"
  }
 },
 "nbformat": 4,
 "nbformat_minor": 2
}
